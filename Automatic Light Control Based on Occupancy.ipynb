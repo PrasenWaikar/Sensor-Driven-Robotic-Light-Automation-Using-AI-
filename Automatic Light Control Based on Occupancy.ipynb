{
 "cells": [
  {
   "cell_type": "code",
   "execution_count": 1,
   "id": "bee79715-54cb-4efc-86a6-2f35f5deacc2",
   "metadata": {},
   "outputs": [],
   "source": [
    "import pandas as pd\n",
    "import numpy as np\n",
    "import matplotlib.pyplot as plt\n",
    "import seaborn as sns\n",
    "from sklearn.preprocessing import StandardScaler\n",
    "from sklearn.model_selection import train_test_split\n",
    "from sklearn.linear_model import LogisticRegression\n",
    "from sklearn.ensemble import RandomForestClassifier\n",
    "from sklearn.metrics import accuracy_score,classification_report,confusion_matrix\n",
    "from sklearn.model_selection import cross_val_score\n",
    "from sklearn.metrics import roc_curve, auc\n",
    "from sklearn.ensemble import ExtraTreesRegressor"
   ]
  },
  {
   "cell_type": "code",
   "execution_count": 2,
   "id": "052029c2-88cb-44a8-9b30-af7859394c4c",
   "metadata": {},
   "outputs": [],
   "source": [
    "df=pd.read_csv('datatest2.txt')"
   ]
  },
  {
   "cell_type": "code",
   "execution_count": 3,
   "id": "2ee55408-47e2-46b6-8980-481e34160f65",
   "metadata": {},
   "outputs": [
    {
     "data": {
      "text/html": [
       "<div>\n",
       "<style scoped>\n",
       "    .dataframe tbody tr th:only-of-type {\n",
       "        vertical-align: middle;\n",
       "    }\n",
       "\n",
       "    .dataframe tbody tr th {\n",
       "        vertical-align: top;\n",
       "    }\n",
       "\n",
       "    .dataframe thead th {\n",
       "        text-align: right;\n",
       "    }\n",
       "</style>\n",
       "<table border=\"1\" class=\"dataframe\">\n",
       "  <thead>\n",
       "    <tr style=\"text-align: right;\">\n",
       "      <th></th>\n",
       "      <th>date</th>\n",
       "      <th>Temperature</th>\n",
       "      <th>Humidity</th>\n",
       "      <th>Light</th>\n",
       "      <th>CO2</th>\n",
       "      <th>HumidityRatio</th>\n",
       "      <th>Occupancy</th>\n",
       "    </tr>\n",
       "  </thead>\n",
       "  <tbody>\n",
       "    <tr>\n",
       "      <th>1</th>\n",
       "      <td>2015-02-11 14:48:00</td>\n",
       "      <td>21.7600</td>\n",
       "      <td>31.133333</td>\n",
       "      <td>437.333333</td>\n",
       "      <td>1029.666667</td>\n",
       "      <td>0.005021</td>\n",
       "      <td>1</td>\n",
       "    </tr>\n",
       "    <tr>\n",
       "      <th>2</th>\n",
       "      <td>2015-02-11 14:49:00</td>\n",
       "      <td>21.7900</td>\n",
       "      <td>31.000000</td>\n",
       "      <td>437.333333</td>\n",
       "      <td>1000.000000</td>\n",
       "      <td>0.005009</td>\n",
       "      <td>1</td>\n",
       "    </tr>\n",
       "    <tr>\n",
       "      <th>3</th>\n",
       "      <td>2015-02-11 14:50:00</td>\n",
       "      <td>21.7675</td>\n",
       "      <td>31.122500</td>\n",
       "      <td>434.000000</td>\n",
       "      <td>1003.750000</td>\n",
       "      <td>0.005022</td>\n",
       "      <td>1</td>\n",
       "    </tr>\n",
       "    <tr>\n",
       "      <th>4</th>\n",
       "      <td>2015-02-11 14:51:00</td>\n",
       "      <td>21.7675</td>\n",
       "      <td>31.122500</td>\n",
       "      <td>439.000000</td>\n",
       "      <td>1009.500000</td>\n",
       "      <td>0.005022</td>\n",
       "      <td>1</td>\n",
       "    </tr>\n",
       "    <tr>\n",
       "      <th>5</th>\n",
       "      <td>2015-02-11 14:51:59</td>\n",
       "      <td>21.7900</td>\n",
       "      <td>31.133333</td>\n",
       "      <td>437.333333</td>\n",
       "      <td>1005.666667</td>\n",
       "      <td>0.005030</td>\n",
       "      <td>1</td>\n",
       "    </tr>\n",
       "  </tbody>\n",
       "</table>\n",
       "</div>"
      ],
      "text/plain": [
       "                  date  Temperature   Humidity       Light          CO2  \\\n",
       "1  2015-02-11 14:48:00      21.7600  31.133333  437.333333  1029.666667   \n",
       "2  2015-02-11 14:49:00      21.7900  31.000000  437.333333  1000.000000   \n",
       "3  2015-02-11 14:50:00      21.7675  31.122500  434.000000  1003.750000   \n",
       "4  2015-02-11 14:51:00      21.7675  31.122500  439.000000  1009.500000   \n",
       "5  2015-02-11 14:51:59      21.7900  31.133333  437.333333  1005.666667   \n",
       "\n",
       "   HumidityRatio  Occupancy  \n",
       "1       0.005021          1  \n",
       "2       0.005009          1  \n",
       "3       0.005022          1  \n",
       "4       0.005022          1  \n",
       "5       0.005030          1  "
      ]
     },
     "execution_count": 3,
     "metadata": {},
     "output_type": "execute_result"
    }
   ],
   "source": [
    "df.head()"
   ]
  },
  {
   "cell_type": "code",
   "execution_count": 4,
   "id": "40363cbd-ccc8-4cbc-b9d7-91e4a069bc35",
   "metadata": {},
   "outputs": [
    {
     "data": {
      "text/plain": [
       "date             0\n",
       "Temperature      0\n",
       "Humidity         0\n",
       "Light            0\n",
       "CO2              0\n",
       "HumidityRatio    0\n",
       "Occupancy        0\n",
       "dtype: int64"
      ]
     },
     "execution_count": 4,
     "metadata": {},
     "output_type": "execute_result"
    }
   ],
   "source": [
    "df.isnull().sum()"
   ]
  },
  {
   "cell_type": "code",
   "execution_count": 5,
   "id": "ce4748b4-9d3e-4ab2-8bd6-bed8cad2c049",
   "metadata": {},
   "outputs": [
    {
     "data": {
      "text/html": [
       "<div>\n",
       "<style scoped>\n",
       "    .dataframe tbody tr th:only-of-type {\n",
       "        vertical-align: middle;\n",
       "    }\n",
       "\n",
       "    .dataframe tbody tr th {\n",
       "        vertical-align: top;\n",
       "    }\n",
       "\n",
       "    .dataframe thead th {\n",
       "        text-align: right;\n",
       "    }\n",
       "</style>\n",
       "<table border=\"1\" class=\"dataframe\">\n",
       "  <thead>\n",
       "    <tr style=\"text-align: right;\">\n",
       "      <th></th>\n",
       "      <th>Temperature</th>\n",
       "      <th>Humidity</th>\n",
       "      <th>Light</th>\n",
       "      <th>CO2</th>\n",
       "      <th>HumidityRatio</th>\n",
       "      <th>Occupancy</th>\n",
       "    </tr>\n",
       "  </thead>\n",
       "  <tbody>\n",
       "    <tr>\n",
       "      <th>count</th>\n",
       "      <td>9752.000000</td>\n",
       "      <td>9752.000000</td>\n",
       "      <td>9752.000000</td>\n",
       "      <td>9752.000000</td>\n",
       "      <td>9752.000000</td>\n",
       "      <td>9752.000000</td>\n",
       "    </tr>\n",
       "    <tr>\n",
       "      <th>mean</th>\n",
       "      <td>21.001768</td>\n",
       "      <td>29.891910</td>\n",
       "      <td>123.067930</td>\n",
       "      <td>753.224832</td>\n",
       "      <td>0.004589</td>\n",
       "      <td>0.210111</td>\n",
       "    </tr>\n",
       "    <tr>\n",
       "      <th>std</th>\n",
       "      <td>1.020693</td>\n",
       "      <td>3.952844</td>\n",
       "      <td>208.221275</td>\n",
       "      <td>297.096114</td>\n",
       "      <td>0.000531</td>\n",
       "      <td>0.407408</td>\n",
       "    </tr>\n",
       "    <tr>\n",
       "      <th>min</th>\n",
       "      <td>19.500000</td>\n",
       "      <td>21.865000</td>\n",
       "      <td>0.000000</td>\n",
       "      <td>484.666667</td>\n",
       "      <td>0.003275</td>\n",
       "      <td>0.000000</td>\n",
       "    </tr>\n",
       "    <tr>\n",
       "      <th>25%</th>\n",
       "      <td>20.290000</td>\n",
       "      <td>26.642083</td>\n",
       "      <td>0.000000</td>\n",
       "      <td>542.312500</td>\n",
       "      <td>0.004196</td>\n",
       "      <td>0.000000</td>\n",
       "    </tr>\n",
       "    <tr>\n",
       "      <th>50%</th>\n",
       "      <td>20.790000</td>\n",
       "      <td>30.200000</td>\n",
       "      <td>0.000000</td>\n",
       "      <td>639.000000</td>\n",
       "      <td>0.004593</td>\n",
       "      <td>0.000000</td>\n",
       "    </tr>\n",
       "    <tr>\n",
       "      <th>75%</th>\n",
       "      <td>21.533333</td>\n",
       "      <td>32.700000</td>\n",
       "      <td>208.250000</td>\n",
       "      <td>831.125000</td>\n",
       "      <td>0.004998</td>\n",
       "      <td>0.000000</td>\n",
       "    </tr>\n",
       "    <tr>\n",
       "      <th>max</th>\n",
       "      <td>24.390000</td>\n",
       "      <td>39.500000</td>\n",
       "      <td>1581.000000</td>\n",
       "      <td>2076.500000</td>\n",
       "      <td>0.005769</td>\n",
       "      <td>1.000000</td>\n",
       "    </tr>\n",
       "  </tbody>\n",
       "</table>\n",
       "</div>"
      ],
      "text/plain": [
       "       Temperature     Humidity        Light          CO2  HumidityRatio  \\\n",
       "count  9752.000000  9752.000000  9752.000000  9752.000000    9752.000000   \n",
       "mean     21.001768    29.891910   123.067930   753.224832       0.004589   \n",
       "std       1.020693     3.952844   208.221275   297.096114       0.000531   \n",
       "min      19.500000    21.865000     0.000000   484.666667       0.003275   \n",
       "25%      20.290000    26.642083     0.000000   542.312500       0.004196   \n",
       "50%      20.790000    30.200000     0.000000   639.000000       0.004593   \n",
       "75%      21.533333    32.700000   208.250000   831.125000       0.004998   \n",
       "max      24.390000    39.500000  1581.000000  2076.500000       0.005769   \n",
       "\n",
       "         Occupancy  \n",
       "count  9752.000000  \n",
       "mean      0.210111  \n",
       "std       0.407408  \n",
       "min       0.000000  \n",
       "25%       0.000000  \n",
       "50%       0.000000  \n",
       "75%       0.000000  \n",
       "max       1.000000  "
      ]
     },
     "execution_count": 5,
     "metadata": {},
     "output_type": "execute_result"
    }
   ],
   "source": [
    "df.describe()"
   ]
  },
  {
   "cell_type": "code",
   "execution_count": 6,
   "id": "30c934de-6fc6-42e6-9535-72ec673f4578",
   "metadata": {},
   "outputs": [
    {
     "name": "stdout",
     "output_type": "stream",
     "text": [
      "<class 'pandas.core.frame.DataFrame'>\n",
      "Index: 9752 entries, 1 to 9752\n",
      "Data columns (total 7 columns):\n",
      " #   Column         Non-Null Count  Dtype  \n",
      "---  ------         --------------  -----  \n",
      " 0   date           9752 non-null   object \n",
      " 1   Temperature    9752 non-null   float64\n",
      " 2   Humidity       9752 non-null   float64\n",
      " 3   Light          9752 non-null   float64\n",
      " 4   CO2            9752 non-null   float64\n",
      " 5   HumidityRatio  9752 non-null   float64\n",
      " 6   Occupancy      9752 non-null   int64  \n",
      "dtypes: float64(5), int64(1), object(1)\n",
      "memory usage: 609.5+ KB\n"
     ]
    }
   ],
   "source": [
    "df.info()"
   ]
  },
  {
   "cell_type": "code",
   "execution_count": 7,
   "id": "c006351b-6515-43e8-bc05-ca06b5004802",
   "metadata": {},
   "outputs": [],
   "source": [
    "df['Date']=df['date'].str.split(' ').str[0]"
   ]
  },
  {
   "cell_type": "code",
   "execution_count": 8,
   "id": "79ae5340-12a4-4118-930b-0720b2975a63",
   "metadata": {},
   "outputs": [],
   "source": [
    "df['Time']=df['date'].str.split(' ').str[1]"
   ]
  },
  {
   "cell_type": "code",
   "execution_count": 9,
   "id": "5d374165-b552-42f2-86c4-18ba90de3c35",
   "metadata": {},
   "outputs": [
    {
     "data": {
      "text/html": [
       "<div>\n",
       "<style scoped>\n",
       "    .dataframe tbody tr th:only-of-type {\n",
       "        vertical-align: middle;\n",
       "    }\n",
       "\n",
       "    .dataframe tbody tr th {\n",
       "        vertical-align: top;\n",
       "    }\n",
       "\n",
       "    .dataframe thead th {\n",
       "        text-align: right;\n",
       "    }\n",
       "</style>\n",
       "<table border=\"1\" class=\"dataframe\">\n",
       "  <thead>\n",
       "    <tr style=\"text-align: right;\">\n",
       "      <th></th>\n",
       "      <th>date</th>\n",
       "      <th>Temperature</th>\n",
       "      <th>Humidity</th>\n",
       "      <th>Light</th>\n",
       "      <th>CO2</th>\n",
       "      <th>HumidityRatio</th>\n",
       "      <th>Occupancy</th>\n",
       "      <th>Date</th>\n",
       "      <th>Time</th>\n",
       "    </tr>\n",
       "  </thead>\n",
       "  <tbody>\n",
       "    <tr>\n",
       "      <th>1</th>\n",
       "      <td>2015-02-11 14:48:00</td>\n",
       "      <td>21.7600</td>\n",
       "      <td>31.133333</td>\n",
       "      <td>437.333333</td>\n",
       "      <td>1029.666667</td>\n",
       "      <td>0.005021</td>\n",
       "      <td>1</td>\n",
       "      <td>2015-02-11</td>\n",
       "      <td>14:48:00</td>\n",
       "    </tr>\n",
       "    <tr>\n",
       "      <th>2</th>\n",
       "      <td>2015-02-11 14:49:00</td>\n",
       "      <td>21.7900</td>\n",
       "      <td>31.000000</td>\n",
       "      <td>437.333333</td>\n",
       "      <td>1000.000000</td>\n",
       "      <td>0.005009</td>\n",
       "      <td>1</td>\n",
       "      <td>2015-02-11</td>\n",
       "      <td>14:49:00</td>\n",
       "    </tr>\n",
       "    <tr>\n",
       "      <th>3</th>\n",
       "      <td>2015-02-11 14:50:00</td>\n",
       "      <td>21.7675</td>\n",
       "      <td>31.122500</td>\n",
       "      <td>434.000000</td>\n",
       "      <td>1003.750000</td>\n",
       "      <td>0.005022</td>\n",
       "      <td>1</td>\n",
       "      <td>2015-02-11</td>\n",
       "      <td>14:50:00</td>\n",
       "    </tr>\n",
       "    <tr>\n",
       "      <th>4</th>\n",
       "      <td>2015-02-11 14:51:00</td>\n",
       "      <td>21.7675</td>\n",
       "      <td>31.122500</td>\n",
       "      <td>439.000000</td>\n",
       "      <td>1009.500000</td>\n",
       "      <td>0.005022</td>\n",
       "      <td>1</td>\n",
       "      <td>2015-02-11</td>\n",
       "      <td>14:51:00</td>\n",
       "    </tr>\n",
       "    <tr>\n",
       "      <th>5</th>\n",
       "      <td>2015-02-11 14:51:59</td>\n",
       "      <td>21.7900</td>\n",
       "      <td>31.133333</td>\n",
       "      <td>437.333333</td>\n",
       "      <td>1005.666667</td>\n",
       "      <td>0.005030</td>\n",
       "      <td>1</td>\n",
       "      <td>2015-02-11</td>\n",
       "      <td>14:51:59</td>\n",
       "    </tr>\n",
       "  </tbody>\n",
       "</table>\n",
       "</div>"
      ],
      "text/plain": [
       "                  date  Temperature   Humidity       Light          CO2  \\\n",
       "1  2015-02-11 14:48:00      21.7600  31.133333  437.333333  1029.666667   \n",
       "2  2015-02-11 14:49:00      21.7900  31.000000  437.333333  1000.000000   \n",
       "3  2015-02-11 14:50:00      21.7675  31.122500  434.000000  1003.750000   \n",
       "4  2015-02-11 14:51:00      21.7675  31.122500  439.000000  1009.500000   \n",
       "5  2015-02-11 14:51:59      21.7900  31.133333  437.333333  1005.666667   \n",
       "\n",
       "   HumidityRatio  Occupancy        Date      Time  \n",
       "1       0.005021          1  2015-02-11  14:48:00  \n",
       "2       0.005009          1  2015-02-11  14:49:00  \n",
       "3       0.005022          1  2015-02-11  14:50:00  \n",
       "4       0.005022          1  2015-02-11  14:51:00  \n",
       "5       0.005030          1  2015-02-11  14:51:59  "
      ]
     },
     "execution_count": 9,
     "metadata": {},
     "output_type": "execute_result"
    }
   ],
   "source": [
    "df.head()"
   ]
  },
  {
   "cell_type": "code",
   "execution_count": 10,
   "id": "7415c6d0-8847-4213-bffd-af72209c2d6e",
   "metadata": {},
   "outputs": [],
   "source": [
    "df.drop('date',axis=1,inplace=True)"
   ]
  },
  {
   "cell_type": "code",
   "execution_count": 11,
   "id": "69ea9e6a-7294-4275-9f2a-082ae2e87809",
   "metadata": {},
   "outputs": [
    {
     "data": {
      "text/html": [
       "<div>\n",
       "<style scoped>\n",
       "    .dataframe tbody tr th:only-of-type {\n",
       "        vertical-align: middle;\n",
       "    }\n",
       "\n",
       "    .dataframe tbody tr th {\n",
       "        vertical-align: top;\n",
       "    }\n",
       "\n",
       "    .dataframe thead th {\n",
       "        text-align: right;\n",
       "    }\n",
       "</style>\n",
       "<table border=\"1\" class=\"dataframe\">\n",
       "  <thead>\n",
       "    <tr style=\"text-align: right;\">\n",
       "      <th></th>\n",
       "      <th>Temperature</th>\n",
       "      <th>Humidity</th>\n",
       "      <th>Light</th>\n",
       "      <th>CO2</th>\n",
       "      <th>HumidityRatio</th>\n",
       "      <th>Occupancy</th>\n",
       "      <th>Date</th>\n",
       "      <th>Time</th>\n",
       "    </tr>\n",
       "  </thead>\n",
       "  <tbody>\n",
       "    <tr>\n",
       "      <th>1</th>\n",
       "      <td>21.7600</td>\n",
       "      <td>31.133333</td>\n",
       "      <td>437.333333</td>\n",
       "      <td>1029.666667</td>\n",
       "      <td>0.005021</td>\n",
       "      <td>1</td>\n",
       "      <td>2015-02-11</td>\n",
       "      <td>14:48:00</td>\n",
       "    </tr>\n",
       "    <tr>\n",
       "      <th>2</th>\n",
       "      <td>21.7900</td>\n",
       "      <td>31.000000</td>\n",
       "      <td>437.333333</td>\n",
       "      <td>1000.000000</td>\n",
       "      <td>0.005009</td>\n",
       "      <td>1</td>\n",
       "      <td>2015-02-11</td>\n",
       "      <td>14:49:00</td>\n",
       "    </tr>\n",
       "    <tr>\n",
       "      <th>3</th>\n",
       "      <td>21.7675</td>\n",
       "      <td>31.122500</td>\n",
       "      <td>434.000000</td>\n",
       "      <td>1003.750000</td>\n",
       "      <td>0.005022</td>\n",
       "      <td>1</td>\n",
       "      <td>2015-02-11</td>\n",
       "      <td>14:50:00</td>\n",
       "    </tr>\n",
       "    <tr>\n",
       "      <th>4</th>\n",
       "      <td>21.7675</td>\n",
       "      <td>31.122500</td>\n",
       "      <td>439.000000</td>\n",
       "      <td>1009.500000</td>\n",
       "      <td>0.005022</td>\n",
       "      <td>1</td>\n",
       "      <td>2015-02-11</td>\n",
       "      <td>14:51:00</td>\n",
       "    </tr>\n",
       "    <tr>\n",
       "      <th>5</th>\n",
       "      <td>21.7900</td>\n",
       "      <td>31.133333</td>\n",
       "      <td>437.333333</td>\n",
       "      <td>1005.666667</td>\n",
       "      <td>0.005030</td>\n",
       "      <td>1</td>\n",
       "      <td>2015-02-11</td>\n",
       "      <td>14:51:59</td>\n",
       "    </tr>\n",
       "  </tbody>\n",
       "</table>\n",
       "</div>"
      ],
      "text/plain": [
       "   Temperature   Humidity       Light          CO2  HumidityRatio  Occupancy  \\\n",
       "1      21.7600  31.133333  437.333333  1029.666667       0.005021          1   \n",
       "2      21.7900  31.000000  437.333333  1000.000000       0.005009          1   \n",
       "3      21.7675  31.122500  434.000000  1003.750000       0.005022          1   \n",
       "4      21.7675  31.122500  439.000000  1009.500000       0.005022          1   \n",
       "5      21.7900  31.133333  437.333333  1005.666667       0.005030          1   \n",
       "\n",
       "         Date      Time  \n",
       "1  2015-02-11  14:48:00  \n",
       "2  2015-02-11  14:49:00  \n",
       "3  2015-02-11  14:50:00  \n",
       "4  2015-02-11  14:51:00  \n",
       "5  2015-02-11  14:51:59  "
      ]
     },
     "execution_count": 11,
     "metadata": {},
     "output_type": "execute_result"
    }
   ],
   "source": [
    "df.head()"
   ]
  },
  {
   "cell_type": "code",
   "execution_count": 12,
   "id": "9e6fcaa8-a566-4162-9e8a-f0c4461cdf71",
   "metadata": {},
   "outputs": [],
   "source": [
    "df['year']=df['Date'].str.split('-').str[0]"
   ]
  },
  {
   "cell_type": "code",
   "execution_count": 13,
   "id": "c74ea6b3-2396-44b8-9548-d001575637e7",
   "metadata": {},
   "outputs": [],
   "source": [
    "df['Month']=df['Date'].str.split('-').str[1]"
   ]
  },
  {
   "cell_type": "code",
   "execution_count": 14,
   "id": "292dacbe-7e58-43a0-b14d-34348dab9912",
   "metadata": {},
   "outputs": [],
   "source": [
    "df['date']=df['Date'].str.split('-').str[2]"
   ]
  },
  {
   "cell_type": "code",
   "execution_count": 15,
   "id": "376324e4-bc52-4b23-a20c-fdeed851cd22",
   "metadata": {},
   "outputs": [
    {
     "data": {
      "text/html": [
       "<div>\n",
       "<style scoped>\n",
       "    .dataframe tbody tr th:only-of-type {\n",
       "        vertical-align: middle;\n",
       "    }\n",
       "\n",
       "    .dataframe tbody tr th {\n",
       "        vertical-align: top;\n",
       "    }\n",
       "\n",
       "    .dataframe thead th {\n",
       "        text-align: right;\n",
       "    }\n",
       "</style>\n",
       "<table border=\"1\" class=\"dataframe\">\n",
       "  <thead>\n",
       "    <tr style=\"text-align: right;\">\n",
       "      <th></th>\n",
       "      <th>Temperature</th>\n",
       "      <th>Humidity</th>\n",
       "      <th>Light</th>\n",
       "      <th>CO2</th>\n",
       "      <th>HumidityRatio</th>\n",
       "      <th>Occupancy</th>\n",
       "      <th>Date</th>\n",
       "      <th>Time</th>\n",
       "      <th>year</th>\n",
       "      <th>Month</th>\n",
       "      <th>date</th>\n",
       "    </tr>\n",
       "  </thead>\n",
       "  <tbody>\n",
       "    <tr>\n",
       "      <th>1</th>\n",
       "      <td>21.7600</td>\n",
       "      <td>31.133333</td>\n",
       "      <td>437.333333</td>\n",
       "      <td>1029.666667</td>\n",
       "      <td>0.005021</td>\n",
       "      <td>1</td>\n",
       "      <td>2015-02-11</td>\n",
       "      <td>14:48:00</td>\n",
       "      <td>2015</td>\n",
       "      <td>02</td>\n",
       "      <td>11</td>\n",
       "    </tr>\n",
       "    <tr>\n",
       "      <th>2</th>\n",
       "      <td>21.7900</td>\n",
       "      <td>31.000000</td>\n",
       "      <td>437.333333</td>\n",
       "      <td>1000.000000</td>\n",
       "      <td>0.005009</td>\n",
       "      <td>1</td>\n",
       "      <td>2015-02-11</td>\n",
       "      <td>14:49:00</td>\n",
       "      <td>2015</td>\n",
       "      <td>02</td>\n",
       "      <td>11</td>\n",
       "    </tr>\n",
       "    <tr>\n",
       "      <th>3</th>\n",
       "      <td>21.7675</td>\n",
       "      <td>31.122500</td>\n",
       "      <td>434.000000</td>\n",
       "      <td>1003.750000</td>\n",
       "      <td>0.005022</td>\n",
       "      <td>1</td>\n",
       "      <td>2015-02-11</td>\n",
       "      <td>14:50:00</td>\n",
       "      <td>2015</td>\n",
       "      <td>02</td>\n",
       "      <td>11</td>\n",
       "    </tr>\n",
       "    <tr>\n",
       "      <th>4</th>\n",
       "      <td>21.7675</td>\n",
       "      <td>31.122500</td>\n",
       "      <td>439.000000</td>\n",
       "      <td>1009.500000</td>\n",
       "      <td>0.005022</td>\n",
       "      <td>1</td>\n",
       "      <td>2015-02-11</td>\n",
       "      <td>14:51:00</td>\n",
       "      <td>2015</td>\n",
       "      <td>02</td>\n",
       "      <td>11</td>\n",
       "    </tr>\n",
       "    <tr>\n",
       "      <th>5</th>\n",
       "      <td>21.7900</td>\n",
       "      <td>31.133333</td>\n",
       "      <td>437.333333</td>\n",
       "      <td>1005.666667</td>\n",
       "      <td>0.005030</td>\n",
       "      <td>1</td>\n",
       "      <td>2015-02-11</td>\n",
       "      <td>14:51:59</td>\n",
       "      <td>2015</td>\n",
       "      <td>02</td>\n",
       "      <td>11</td>\n",
       "    </tr>\n",
       "  </tbody>\n",
       "</table>\n",
       "</div>"
      ],
      "text/plain": [
       "   Temperature   Humidity       Light          CO2  HumidityRatio  Occupancy  \\\n",
       "1      21.7600  31.133333  437.333333  1029.666667       0.005021          1   \n",
       "2      21.7900  31.000000  437.333333  1000.000000       0.005009          1   \n",
       "3      21.7675  31.122500  434.000000  1003.750000       0.005022          1   \n",
       "4      21.7675  31.122500  439.000000  1009.500000       0.005022          1   \n",
       "5      21.7900  31.133333  437.333333  1005.666667       0.005030          1   \n",
       "\n",
       "         Date      Time  year Month date  \n",
       "1  2015-02-11  14:48:00  2015    02   11  \n",
       "2  2015-02-11  14:49:00  2015    02   11  \n",
       "3  2015-02-11  14:50:00  2015    02   11  \n",
       "4  2015-02-11  14:51:00  2015    02   11  \n",
       "5  2015-02-11  14:51:59  2015    02   11  "
      ]
     },
     "execution_count": 15,
     "metadata": {},
     "output_type": "execute_result"
    }
   ],
   "source": [
    "df.head()"
   ]
  },
  {
   "cell_type": "code",
   "execution_count": 16,
   "id": "1b3f60d1-e6a0-4b7d-a0a4-8a9fa4d7c3b4",
   "metadata": {},
   "outputs": [],
   "source": [
    "df.drop('Date',axis=1,inplace=True)"
   ]
  },
  {
   "cell_type": "code",
   "execution_count": 17,
   "id": "fee6c60d-4c00-4d7c-b0da-6d371ac1fe81",
   "metadata": {},
   "outputs": [
    {
     "data": {
      "text/html": [
       "<div>\n",
       "<style scoped>\n",
       "    .dataframe tbody tr th:only-of-type {\n",
       "        vertical-align: middle;\n",
       "    }\n",
       "\n",
       "    .dataframe tbody tr th {\n",
       "        vertical-align: top;\n",
       "    }\n",
       "\n",
       "    .dataframe thead th {\n",
       "        text-align: right;\n",
       "    }\n",
       "</style>\n",
       "<table border=\"1\" class=\"dataframe\">\n",
       "  <thead>\n",
       "    <tr style=\"text-align: right;\">\n",
       "      <th></th>\n",
       "      <th>Temperature</th>\n",
       "      <th>Humidity</th>\n",
       "      <th>Light</th>\n",
       "      <th>CO2</th>\n",
       "      <th>HumidityRatio</th>\n",
       "      <th>Occupancy</th>\n",
       "      <th>Time</th>\n",
       "      <th>year</th>\n",
       "      <th>Month</th>\n",
       "      <th>date</th>\n",
       "    </tr>\n",
       "  </thead>\n",
       "  <tbody>\n",
       "    <tr>\n",
       "      <th>1</th>\n",
       "      <td>21.7600</td>\n",
       "      <td>31.133333</td>\n",
       "      <td>437.333333</td>\n",
       "      <td>1029.666667</td>\n",
       "      <td>0.005021</td>\n",
       "      <td>1</td>\n",
       "      <td>14:48:00</td>\n",
       "      <td>2015</td>\n",
       "      <td>02</td>\n",
       "      <td>11</td>\n",
       "    </tr>\n",
       "    <tr>\n",
       "      <th>2</th>\n",
       "      <td>21.7900</td>\n",
       "      <td>31.000000</td>\n",
       "      <td>437.333333</td>\n",
       "      <td>1000.000000</td>\n",
       "      <td>0.005009</td>\n",
       "      <td>1</td>\n",
       "      <td>14:49:00</td>\n",
       "      <td>2015</td>\n",
       "      <td>02</td>\n",
       "      <td>11</td>\n",
       "    </tr>\n",
       "    <tr>\n",
       "      <th>3</th>\n",
       "      <td>21.7675</td>\n",
       "      <td>31.122500</td>\n",
       "      <td>434.000000</td>\n",
       "      <td>1003.750000</td>\n",
       "      <td>0.005022</td>\n",
       "      <td>1</td>\n",
       "      <td>14:50:00</td>\n",
       "      <td>2015</td>\n",
       "      <td>02</td>\n",
       "      <td>11</td>\n",
       "    </tr>\n",
       "    <tr>\n",
       "      <th>4</th>\n",
       "      <td>21.7675</td>\n",
       "      <td>31.122500</td>\n",
       "      <td>439.000000</td>\n",
       "      <td>1009.500000</td>\n",
       "      <td>0.005022</td>\n",
       "      <td>1</td>\n",
       "      <td>14:51:00</td>\n",
       "      <td>2015</td>\n",
       "      <td>02</td>\n",
       "      <td>11</td>\n",
       "    </tr>\n",
       "    <tr>\n",
       "      <th>5</th>\n",
       "      <td>21.7900</td>\n",
       "      <td>31.133333</td>\n",
       "      <td>437.333333</td>\n",
       "      <td>1005.666667</td>\n",
       "      <td>0.005030</td>\n",
       "      <td>1</td>\n",
       "      <td>14:51:59</td>\n",
       "      <td>2015</td>\n",
       "      <td>02</td>\n",
       "      <td>11</td>\n",
       "    </tr>\n",
       "  </tbody>\n",
       "</table>\n",
       "</div>"
      ],
      "text/plain": [
       "   Temperature   Humidity       Light          CO2  HumidityRatio  Occupancy  \\\n",
       "1      21.7600  31.133333  437.333333  1029.666667       0.005021          1   \n",
       "2      21.7900  31.000000  437.333333  1000.000000       0.005009          1   \n",
       "3      21.7675  31.122500  434.000000  1003.750000       0.005022          1   \n",
       "4      21.7675  31.122500  439.000000  1009.500000       0.005022          1   \n",
       "5      21.7900  31.133333  437.333333  1005.666667       0.005030          1   \n",
       "\n",
       "       Time  year Month date  \n",
       "1  14:48:00  2015    02   11  \n",
       "2  14:49:00  2015    02   11  \n",
       "3  14:50:00  2015    02   11  \n",
       "4  14:51:00  2015    02   11  \n",
       "5  14:51:59  2015    02   11  "
      ]
     },
     "execution_count": 17,
     "metadata": {},
     "output_type": "execute_result"
    }
   ],
   "source": [
    "df.head()"
   ]
  },
  {
   "cell_type": "code",
   "execution_count": 18,
   "id": "13430f7e-b4ae-440a-81de-688781aa03d0",
   "metadata": {},
   "outputs": [],
   "source": [
    "df['Hours']=df['Time'].str.split(':').str[0]"
   ]
  },
  {
   "cell_type": "code",
   "execution_count": 19,
   "id": "bb6c3b48-d89e-42fa-a6d2-530b3c3eb965",
   "metadata": {},
   "outputs": [],
   "source": [
    "df['Minutes']=df['Time'].str.split(':').str[1]\n",
    "df['Seconds']=df['Time'].str.split(':').str[2]"
   ]
  },
  {
   "cell_type": "code",
   "execution_count": 20,
   "id": "302dea03-852b-41a5-bd07-d2a645bc1e79",
   "metadata": {},
   "outputs": [],
   "source": [
    "df.drop('Time',axis=1,inplace=True)"
   ]
  },
  {
   "cell_type": "code",
   "execution_count": 21,
   "id": "9d802b24-1a9d-46c8-b732-859253e72489",
   "metadata": {},
   "outputs": [
    {
     "data": {
      "text/html": [
       "<div>\n",
       "<style scoped>\n",
       "    .dataframe tbody tr th:only-of-type {\n",
       "        vertical-align: middle;\n",
       "    }\n",
       "\n",
       "    .dataframe tbody tr th {\n",
       "        vertical-align: top;\n",
       "    }\n",
       "\n",
       "    .dataframe thead th {\n",
       "        text-align: right;\n",
       "    }\n",
       "</style>\n",
       "<table border=\"1\" class=\"dataframe\">\n",
       "  <thead>\n",
       "    <tr style=\"text-align: right;\">\n",
       "      <th></th>\n",
       "      <th>Temperature</th>\n",
       "      <th>Humidity</th>\n",
       "      <th>Light</th>\n",
       "      <th>CO2</th>\n",
       "      <th>HumidityRatio</th>\n",
       "      <th>Occupancy</th>\n",
       "      <th>year</th>\n",
       "      <th>Month</th>\n",
       "      <th>date</th>\n",
       "      <th>Hours</th>\n",
       "      <th>Minutes</th>\n",
       "      <th>Seconds</th>\n",
       "    </tr>\n",
       "  </thead>\n",
       "  <tbody>\n",
       "    <tr>\n",
       "      <th>1</th>\n",
       "      <td>21.7600</td>\n",
       "      <td>31.133333</td>\n",
       "      <td>437.333333</td>\n",
       "      <td>1029.666667</td>\n",
       "      <td>0.005021</td>\n",
       "      <td>1</td>\n",
       "      <td>2015</td>\n",
       "      <td>02</td>\n",
       "      <td>11</td>\n",
       "      <td>14</td>\n",
       "      <td>48</td>\n",
       "      <td>00</td>\n",
       "    </tr>\n",
       "    <tr>\n",
       "      <th>2</th>\n",
       "      <td>21.7900</td>\n",
       "      <td>31.000000</td>\n",
       "      <td>437.333333</td>\n",
       "      <td>1000.000000</td>\n",
       "      <td>0.005009</td>\n",
       "      <td>1</td>\n",
       "      <td>2015</td>\n",
       "      <td>02</td>\n",
       "      <td>11</td>\n",
       "      <td>14</td>\n",
       "      <td>49</td>\n",
       "      <td>00</td>\n",
       "    </tr>\n",
       "    <tr>\n",
       "      <th>3</th>\n",
       "      <td>21.7675</td>\n",
       "      <td>31.122500</td>\n",
       "      <td>434.000000</td>\n",
       "      <td>1003.750000</td>\n",
       "      <td>0.005022</td>\n",
       "      <td>1</td>\n",
       "      <td>2015</td>\n",
       "      <td>02</td>\n",
       "      <td>11</td>\n",
       "      <td>14</td>\n",
       "      <td>50</td>\n",
       "      <td>00</td>\n",
       "    </tr>\n",
       "    <tr>\n",
       "      <th>4</th>\n",
       "      <td>21.7675</td>\n",
       "      <td>31.122500</td>\n",
       "      <td>439.000000</td>\n",
       "      <td>1009.500000</td>\n",
       "      <td>0.005022</td>\n",
       "      <td>1</td>\n",
       "      <td>2015</td>\n",
       "      <td>02</td>\n",
       "      <td>11</td>\n",
       "      <td>14</td>\n",
       "      <td>51</td>\n",
       "      <td>00</td>\n",
       "    </tr>\n",
       "    <tr>\n",
       "      <th>5</th>\n",
       "      <td>21.7900</td>\n",
       "      <td>31.133333</td>\n",
       "      <td>437.333333</td>\n",
       "      <td>1005.666667</td>\n",
       "      <td>0.005030</td>\n",
       "      <td>1</td>\n",
       "      <td>2015</td>\n",
       "      <td>02</td>\n",
       "      <td>11</td>\n",
       "      <td>14</td>\n",
       "      <td>51</td>\n",
       "      <td>59</td>\n",
       "    </tr>\n",
       "  </tbody>\n",
       "</table>\n",
       "</div>"
      ],
      "text/plain": [
       "   Temperature   Humidity       Light          CO2  HumidityRatio  Occupancy  \\\n",
       "1      21.7600  31.133333  437.333333  1029.666667       0.005021          1   \n",
       "2      21.7900  31.000000  437.333333  1000.000000       0.005009          1   \n",
       "3      21.7675  31.122500  434.000000  1003.750000       0.005022          1   \n",
       "4      21.7675  31.122500  439.000000  1009.500000       0.005022          1   \n",
       "5      21.7900  31.133333  437.333333  1005.666667       0.005030          1   \n",
       "\n",
       "   year Month date Hours Minutes Seconds  \n",
       "1  2015    02   11    14      48      00  \n",
       "2  2015    02   11    14      49      00  \n",
       "3  2015    02   11    14      50      00  \n",
       "4  2015    02   11    14      51      00  \n",
       "5  2015    02   11    14      51      59  "
      ]
     },
     "execution_count": 21,
     "metadata": {},
     "output_type": "execute_result"
    }
   ],
   "source": [
    "df.head()"
   ]
  },
  {
   "cell_type": "code",
   "execution_count": 22,
   "id": "0bb8921b-3489-495c-9fed-92051beb2d62",
   "metadata": {},
   "outputs": [],
   "source": [
    "df['year']=df['year'].astype('int')\n",
    "df['Month']=df['Month'].astype('int')\n",
    "df['date']=df['date'].astype('int')\n",
    "df['Hours']=df['Hours'].astype('int')\n",
    "df['Minutes']=df['Minutes'].astype('int')\n",
    "df['Seconds']=df['Seconds'].astype('int')"
   ]
  },
  {
   "cell_type": "code",
   "execution_count": 23,
   "id": "b05d63b6-39f6-4ad3-a2d1-bcd1e535d240",
   "metadata": {},
   "outputs": [
    {
     "name": "stdout",
     "output_type": "stream",
     "text": [
      "<class 'pandas.core.frame.DataFrame'>\n",
      "Index: 9752 entries, 1 to 9752\n",
      "Data columns (total 12 columns):\n",
      " #   Column         Non-Null Count  Dtype  \n",
      "---  ------         --------------  -----  \n",
      " 0   Temperature    9752 non-null   float64\n",
      " 1   Humidity       9752 non-null   float64\n",
      " 2   Light          9752 non-null   float64\n",
      " 3   CO2            9752 non-null   float64\n",
      " 4   HumidityRatio  9752 non-null   float64\n",
      " 5   Occupancy      9752 non-null   int64  \n",
      " 6   year           9752 non-null   int32  \n",
      " 7   Month          9752 non-null   int32  \n",
      " 8   date           9752 non-null   int32  \n",
      " 9   Hours          9752 non-null   int32  \n",
      " 10  Minutes        9752 non-null   int32  \n",
      " 11  Seconds        9752 non-null   int32  \n",
      "dtypes: float64(5), int32(6), int64(1)\n",
      "memory usage: 761.9 KB\n"
     ]
    }
   ],
   "source": [
    "df.info()"
   ]
  },
  {
   "cell_type": "code",
   "execution_count": 24,
   "id": "fb639ee3-91c4-46df-a6e6-49c9e8bdd119",
   "metadata": {},
   "outputs": [
    {
     "data": {
      "text/html": [
       "<div>\n",
       "<style scoped>\n",
       "    .dataframe tbody tr th:only-of-type {\n",
       "        vertical-align: middle;\n",
       "    }\n",
       "\n",
       "    .dataframe tbody tr th {\n",
       "        vertical-align: top;\n",
       "    }\n",
       "\n",
       "    .dataframe thead th {\n",
       "        text-align: right;\n",
       "    }\n",
       "</style>\n",
       "<table border=\"1\" class=\"dataframe\">\n",
       "  <thead>\n",
       "    <tr style=\"text-align: right;\">\n",
       "      <th></th>\n",
       "      <th>Temperature</th>\n",
       "      <th>Humidity</th>\n",
       "      <th>Light</th>\n",
       "      <th>CO2</th>\n",
       "      <th>HumidityRatio</th>\n",
       "      <th>Occupancy</th>\n",
       "      <th>year</th>\n",
       "      <th>Month</th>\n",
       "      <th>date</th>\n",
       "      <th>Hours</th>\n",
       "      <th>Minutes</th>\n",
       "      <th>Seconds</th>\n",
       "    </tr>\n",
       "  </thead>\n",
       "  <tbody>\n",
       "    <tr>\n",
       "      <th>count</th>\n",
       "      <td>9752.000000</td>\n",
       "      <td>9752.000000</td>\n",
       "      <td>9752.000000</td>\n",
       "      <td>9752.000000</td>\n",
       "      <td>9752.000000</td>\n",
       "      <td>9752.000000</td>\n",
       "      <td>9752.0</td>\n",
       "      <td>9752.0</td>\n",
       "      <td>9752.000000</td>\n",
       "      <td>9752.000000</td>\n",
       "      <td>9752.000000</td>\n",
       "      <td>9752.000000</td>\n",
       "    </tr>\n",
       "    <tr>\n",
       "      <th>mean</th>\n",
       "      <td>21.001768</td>\n",
       "      <td>29.891910</td>\n",
       "      <td>123.067930</td>\n",
       "      <td>753.224832</td>\n",
       "      <td>0.004589</td>\n",
       "      <td>0.210111</td>\n",
       "      <td>2015.0</td>\n",
       "      <td>2.0</td>\n",
       "      <td>14.502871</td>\n",
       "      <td>11.492412</td>\n",
       "      <td>29.509639</td>\n",
       "      <td>18.355824</td>\n",
       "    </tr>\n",
       "    <tr>\n",
       "      <th>std</th>\n",
       "      <td>1.020693</td>\n",
       "      <td>3.952844</td>\n",
       "      <td>208.221275</td>\n",
       "      <td>297.096114</td>\n",
       "      <td>0.000531</td>\n",
       "      <td>0.407408</td>\n",
       "      <td>0.0</td>\n",
       "      <td>0.0</td>\n",
       "      <td>1.995326</td>\n",
       "      <td>7.031402</td>\n",
       "      <td>17.324981</td>\n",
       "      <td>27.315451</td>\n",
       "    </tr>\n",
       "    <tr>\n",
       "      <th>min</th>\n",
       "      <td>19.500000</td>\n",
       "      <td>21.865000</td>\n",
       "      <td>0.000000</td>\n",
       "      <td>484.666667</td>\n",
       "      <td>0.003275</td>\n",
       "      <td>0.000000</td>\n",
       "      <td>2015.0</td>\n",
       "      <td>2.0</td>\n",
       "      <td>11.000000</td>\n",
       "      <td>0.000000</td>\n",
       "      <td>0.000000</td>\n",
       "      <td>0.000000</td>\n",
       "    </tr>\n",
       "    <tr>\n",
       "      <th>25%</th>\n",
       "      <td>20.290000</td>\n",
       "      <td>26.642083</td>\n",
       "      <td>0.000000</td>\n",
       "      <td>542.312500</td>\n",
       "      <td>0.004196</td>\n",
       "      <td>0.000000</td>\n",
       "      <td>2015.0</td>\n",
       "      <td>2.0</td>\n",
       "      <td>13.000000</td>\n",
       "      <td>5.000000</td>\n",
       "      <td>14.000000</td>\n",
       "      <td>0.000000</td>\n",
       "    </tr>\n",
       "    <tr>\n",
       "      <th>50%</th>\n",
       "      <td>20.790000</td>\n",
       "      <td>30.200000</td>\n",
       "      <td>0.000000</td>\n",
       "      <td>639.000000</td>\n",
       "      <td>0.004593</td>\n",
       "      <td>0.000000</td>\n",
       "      <td>2015.0</td>\n",
       "      <td>2.0</td>\n",
       "      <td>15.000000</td>\n",
       "      <td>11.000000</td>\n",
       "      <td>29.000000</td>\n",
       "      <td>0.000000</td>\n",
       "    </tr>\n",
       "    <tr>\n",
       "      <th>75%</th>\n",
       "      <td>21.533333</td>\n",
       "      <td>32.700000</td>\n",
       "      <td>208.250000</td>\n",
       "      <td>831.125000</td>\n",
       "      <td>0.004998</td>\n",
       "      <td>0.000000</td>\n",
       "      <td>2015.0</td>\n",
       "      <td>2.0</td>\n",
       "      <td>16.000000</td>\n",
       "      <td>18.000000</td>\n",
       "      <td>45.000000</td>\n",
       "      <td>59.000000</td>\n",
       "    </tr>\n",
       "    <tr>\n",
       "      <th>max</th>\n",
       "      <td>24.390000</td>\n",
       "      <td>39.500000</td>\n",
       "      <td>1581.000000</td>\n",
       "      <td>2076.500000</td>\n",
       "      <td>0.005769</td>\n",
       "      <td>1.000000</td>\n",
       "      <td>2015.0</td>\n",
       "      <td>2.0</td>\n",
       "      <td>18.000000</td>\n",
       "      <td>23.000000</td>\n",
       "      <td>59.000000</td>\n",
       "      <td>59.000000</td>\n",
       "    </tr>\n",
       "  </tbody>\n",
       "</table>\n",
       "</div>"
      ],
      "text/plain": [
       "       Temperature     Humidity        Light          CO2  HumidityRatio  \\\n",
       "count  9752.000000  9752.000000  9752.000000  9752.000000    9752.000000   \n",
       "mean     21.001768    29.891910   123.067930   753.224832       0.004589   \n",
       "std       1.020693     3.952844   208.221275   297.096114       0.000531   \n",
       "min      19.500000    21.865000     0.000000   484.666667       0.003275   \n",
       "25%      20.290000    26.642083     0.000000   542.312500       0.004196   \n",
       "50%      20.790000    30.200000     0.000000   639.000000       0.004593   \n",
       "75%      21.533333    32.700000   208.250000   831.125000       0.004998   \n",
       "max      24.390000    39.500000  1581.000000  2076.500000       0.005769   \n",
       "\n",
       "         Occupancy    year   Month         date        Hours      Minutes  \\\n",
       "count  9752.000000  9752.0  9752.0  9752.000000  9752.000000  9752.000000   \n",
       "mean      0.210111  2015.0     2.0    14.502871    11.492412    29.509639   \n",
       "std       0.407408     0.0     0.0     1.995326     7.031402    17.324981   \n",
       "min       0.000000  2015.0     2.0    11.000000     0.000000     0.000000   \n",
       "25%       0.000000  2015.0     2.0    13.000000     5.000000    14.000000   \n",
       "50%       0.000000  2015.0     2.0    15.000000    11.000000    29.000000   \n",
       "75%       0.000000  2015.0     2.0    16.000000    18.000000    45.000000   \n",
       "max       1.000000  2015.0     2.0    18.000000    23.000000    59.000000   \n",
       "\n",
       "           Seconds  \n",
       "count  9752.000000  \n",
       "mean     18.355824  \n",
       "std      27.315451  \n",
       "min       0.000000  \n",
       "25%       0.000000  \n",
       "50%       0.000000  \n",
       "75%      59.000000  \n",
       "max      59.000000  "
      ]
     },
     "execution_count": 24,
     "metadata": {},
     "output_type": "execute_result"
    }
   ],
   "source": [
    "df.describe()"
   ]
  },
  {
   "cell_type": "code",
   "execution_count": 25,
   "id": "fc9d1c0f-3aae-45f8-8a9c-2f5042e490f4",
   "metadata": {},
   "outputs": [
    {
     "data": {
      "text/plain": [
       "0"
      ]
     },
     "execution_count": 25,
     "metadata": {},
     "output_type": "execute_result"
    }
   ],
   "source": [
    "df.duplicated().sum().sum()"
   ]
  },
  {
   "cell_type": "code",
   "execution_count": 26,
   "id": "a506cd14-6443-48f1-b7c5-1dda421dfb4e",
   "metadata": {},
   "outputs": [
    {
     "name": "stdout",
     "output_type": "stream",
     "text": [
      "Occupancy\n",
      "0    7703\n",
      "1    2049\n",
      "Name: count, dtype: int64\n"
     ]
    },
    {
     "data": {
      "image/png": "[encoded data removed]",
      "text/plain": [
       "<Figure size 640x480 with 1 Axes>"
      ]
     },
     "metadata": {},
     "output_type": "display_data"
    }
   ],
   "source": [
    "sns.countplot(y='Occupancy',data=df)\n",
    "print(df['Occupancy'].value_counts())"
   ]
  },
  {
   "cell_type": "code",
   "execution_count": 27,
   "id": "1dd8b2f7-a2be-4fde-b7bc-df8820469f5f",
   "metadata": {},
   "outputs": [],
   "source": [
    "df.drop(['year','Month'],axis=1,inplace=True)"
   ]
  },
  {
   "cell_type": "code",
   "execution_count": 28,
   "id": "ad5d095c-10c1-4830-8242-1a47dfef8b4c",
   "metadata": {},
   "outputs": [
    {
     "data": {
      "text/html": [
       "<div>\n",
       "<style scoped>\n",
       "    .dataframe tbody tr th:only-of-type {\n",
       "        vertical-align: middle;\n",
       "    }\n",
       "\n",
       "    .dataframe tbody tr th {\n",
       "        vertical-align: top;\n",
       "    }\n",
       "\n",
       "    .dataframe thead th {\n",
       "        text-align: right;\n",
       "    }\n",
       "</style>\n",
       "<table border=\"1\" class=\"dataframe\">\n",
       "  <thead>\n",
       "    <tr style=\"text-align: right;\">\n",
       "      <th></th>\n",
       "      <th>Temperature</th>\n",
       "      <th>Humidity</th>\n",
       "      <th>Light</th>\n",
       "      <th>CO2</th>\n",
       "      <th>HumidityRatio</th>\n",
       "      <th>Occupancy</th>\n",
       "      <th>date</th>\n",
       "      <th>Hours</th>\n",
       "      <th>Minutes</th>\n",
       "      <th>Seconds</th>\n",
       "    </tr>\n",
       "  </thead>\n",
       "  <tbody>\n",
       "    <tr>\n",
       "      <th>1</th>\n",
       "      <td>21.7600</td>\n",
       "      <td>31.133333</td>\n",
       "      <td>437.333333</td>\n",
       "      <td>1029.666667</td>\n",
       "      <td>0.005021</td>\n",
       "      <td>1</td>\n",
       "      <td>11</td>\n",
       "      <td>14</td>\n",
       "      <td>48</td>\n",
       "      <td>0</td>\n",
       "    </tr>\n",
       "    <tr>\n",
       "      <th>2</th>\n",
       "      <td>21.7900</td>\n",
       "      <td>31.000000</td>\n",
       "      <td>437.333333</td>\n",
       "      <td>1000.000000</td>\n",
       "      <td>0.005009</td>\n",
       "      <td>1</td>\n",
       "      <td>11</td>\n",
       "      <td>14</td>\n",
       "      <td>49</td>\n",
       "      <td>0</td>\n",
       "    </tr>\n",
       "    <tr>\n",
       "      <th>3</th>\n",
       "      <td>21.7675</td>\n",
       "      <td>31.122500</td>\n",
       "      <td>434.000000</td>\n",
       "      <td>1003.750000</td>\n",
       "      <td>0.005022</td>\n",
       "      <td>1</td>\n",
       "      <td>11</td>\n",
       "      <td>14</td>\n",
       "      <td>50</td>\n",
       "      <td>0</td>\n",
       "    </tr>\n",
       "    <tr>\n",
       "      <th>4</th>\n",
       "      <td>21.7675</td>\n",
       "      <td>31.122500</td>\n",
       "      <td>439.000000</td>\n",
       "      <td>1009.500000</td>\n",
       "      <td>0.005022</td>\n",
       "      <td>1</td>\n",
       "      <td>11</td>\n",
       "      <td>14</td>\n",
       "      <td>51</td>\n",
       "      <td>0</td>\n",
       "    </tr>\n",
       "    <tr>\n",
       "      <th>5</th>\n",
       "      <td>21.7900</td>\n",
       "      <td>31.133333</td>\n",
       "      <td>437.333333</td>\n",
       "      <td>1005.666667</td>\n",
       "      <td>0.005030</td>\n",
       "      <td>1</td>\n",
       "      <td>11</td>\n",
       "      <td>14</td>\n",
       "      <td>51</td>\n",
       "      <td>59</td>\n",
       "    </tr>\n",
       "  </tbody>\n",
       "</table>\n",
       "</div>"
      ],
      "text/plain": [
       "   Temperature   Humidity       Light          CO2  HumidityRatio  Occupancy  \\\n",
       "1      21.7600  31.133333  437.333333  1029.666667       0.005021          1   \n",
       "2      21.7900  31.000000  437.333333  1000.000000       0.005009          1   \n",
       "3      21.7675  31.122500  434.000000  1003.750000       0.005022          1   \n",
       "4      21.7675  31.122500  439.000000  1009.500000       0.005022          1   \n",
       "5      21.7900  31.133333  437.333333  1005.666667       0.005030          1   \n",
       "\n",
       "   date  Hours  Minutes  Seconds  \n",
       "1    11     14       48        0  \n",
       "2    11     14       49        0  \n",
       "3    11     14       50        0  \n",
       "4    11     14       51        0  \n",
       "5    11     14       51       59  "
      ]
     },
     "execution_count": 28,
     "metadata": {},
     "output_type": "execute_result"
    }
   ],
   "source": [
    "df.head()"
   ]
  },
  {
   "cell_type": "code",
   "execution_count": 29,
   "id": "4a3b2f31-ef86-4303-9369-c0587ae3f0df",
   "metadata": {},
   "outputs": [],
   "source": [
    "x=df.drop('Occupancy',axis=1)\n",
    "y=df['Occupancy']"
   ]
  },
  {
   "cell_type": "code",
   "execution_count": 30,
   "id": "b7b17e2e-52a7-40c0-8d6e-c12954de4b9b",
   "metadata": {},
   "outputs": [],
   "source": [
    "scale=StandardScaler()\n",
    "x_scaled=scale.fit_transform(x)"
   ]
  },
  {
   "cell_type": "code",
   "execution_count": 31,
   "id": "63fea64f-de2c-4b11-ba6d-919a0b7915e0",
   "metadata": {},
   "outputs": [],
   "source": [
    "x_train,x_test,y_train,y_test=train_test_split(x_scaled,y,test_size=0.20,random_state=42,stratify=y)"
   ]
  },
  {
   "cell_type": "code",
   "execution_count": 34,
   "id": "38a815bf-31d0-4f88-bac5-36157b5b01bb",
   "metadata": {},
   "outputs": [
    {
     "data": {
      "image/png": "[encoded data removed]",
      "text/plain": [
       "<Figure size 1200x800 with 1 Axes>"
      ]
     },
     "metadata": {},
     "output_type": "display_data"
    }
   ],
   "source": [
    "x_scaled = pd.DataFrame(x_scaled, columns=['Temperature','Humidity','Light','CO2','HumidityRatio','date','Hours','Minutes','Seconds'])  # Replace with actual feature names\n",
    "\n",
    "# Fit the model\n",
    "selection = ExtraTreesRegressor()\n",
    "selection.fit(x_scaled, y)\n",
    "\n",
    "# Plot feature importances\n",
    "plt.figure(figsize=(12, 8))\n",
    "feat_importances = pd.Series(selection.feature_importances_, index=x_scaled.columns)\n",
    "feat_importances.nlargest(30).plot(kind='barh')\n",
    "plt.show()"
   ]
  },
  {
   "cell_type": "code",
   "execution_count": 48,
   "id": "e53de570-c661-423b-b011-d2ffed24e2b4",
   "metadata": {},
   "outputs": [
    {
     "data": {
      "text/plain": [
       "<Axes: >"
      ]
     },
     "execution_count": 48,
     "metadata": {},
     "output_type": "execute_result"
    },
    {
     "data": {
      "image/png": "[encoded data removed]",
      "text/plain": [
       "<Figure size 1200x600 with 2 Axes>"
      ]
     },
     "metadata": {},
     "output_type": "display_data"
    }
   ],
   "source": [
    "plt.figure(figsize=(12,6))\n",
    "sns.heatmap(df.corr(),cmap='coolwarm',annot=True)"
   ]
  },
  {
   "cell_type": "code",
   "execution_count": 35,
   "id": "d61b3ab8-55b0-4353-870e-4b598e4622dd",
   "metadata": {},
   "outputs": [
    {
     "data": {
      "text/plain": [
       "(7801, 9)"
      ]
     },
     "execution_count": 35,
     "metadata": {},
     "output_type": "execute_result"
    }
   ],
   "source": [
    "x_train.shape"
   ]
  },
  {
   "cell_type": "code",
   "execution_count": 36,
   "id": "689b19a6-056d-4768-92f7-50ee9004d0b8",
   "metadata": {},
   "outputs": [
    {
     "data": {
      "text/plain": [
       "(1951, 9)"
      ]
     },
     "execution_count": 36,
     "metadata": {},
     "output_type": "execute_result"
    }
   ],
   "source": [
    "x_test.shape"
   ]
  },
  {
   "cell_type": "code",
   "execution_count": 37,
   "id": "dadf3656-4709-4fc3-9415-8765bd102da8",
   "metadata": {},
   "outputs": [
    {
     "data": {
      "text/plain": [
       "(7801,)"
      ]
     },
     "execution_count": 37,
     "metadata": {},
     "output_type": "execute_result"
    }
   ],
   "source": [
    "y_train.shape"
   ]
  },
  {
   "cell_type": "code",
   "execution_count": 38,
   "id": "cb5af862-a09b-4378-a079-006e8f64ca3d",
   "metadata": {},
   "outputs": [
    {
     "data": {
      "text/plain": [
       "(1951,)"
      ]
     },
     "execution_count": 38,
     "metadata": {},
     "output_type": "execute_result"
    }
   ],
   "source": [
    "y_test.shape"
   ]
  },
  {
   "cell_type": "code",
   "execution_count": 39,
   "id": "02406c60-e9c2-4879-a415-b3b0c24ea80e",
   "metadata": {},
   "outputs": [
    {
     "name": "stdout",
     "output_type": "stream",
     "text": [
      "Log accuracy :0.9933367503844183\n",
      "RF accuracy :0.9958995386981035\n",
      "LOG               precision    recall  f1-score   support\n",
      "\n",
      "           0       1.00      0.99      1.00      1541\n",
      "           1       0.98      0.99      0.98       410\n",
      "\n",
      "    accuracy                           0.99      1951\n",
      "   macro avg       0.99      0.99      0.99      1951\n",
      "weighted avg       0.99      0.99      0.99      1951\n",
      "\n",
      "RF               precision    recall  f1-score   support\n",
      "\n",
      "           0       1.00      1.00      1.00      1541\n",
      "           1       0.99      0.99      0.99       410\n",
      "\n",
      "    accuracy                           1.00      1951\n",
      "   macro avg       0.99      0.99      0.99      1951\n",
      "weighted avg       1.00      1.00      1.00      1951\n",
      "\n"
     ]
    }
   ],
   "source": [
    "log=LogisticRegression()\n",
    "log=log.fit(x_train,y_train)\n",
    "log_pred=log.predict(x_test)\n",
    "\n",
    "\n",
    "rf=RandomForestClassifier()\n",
    "rf=rf.fit(x_train,y_train)\n",
    "rf_pred=rf.predict(x_test)\n",
    "\n",
    "log_acc=accuracy_score(y_test,log_pred)\n",
    "rf_acc=accuracy_score(y_test,rf_pred)\n",
    "print(f\"Log accuracy :{log_acc}\")\n",
    "print(f\"RF accuracy :{rf_acc}\")\n",
    "\n",
    "print(\"LOG\",classification_report(y_test,log_pred))\n",
    "print(\"RF\",classification_report(y_test,rf_pred))"
   ]
  },
  {
   "cell_type": "code",
   "execution_count": 40,
   "id": "524293ff-39a3-444d-a4a5-a3be878018bb",
   "metadata": {},
   "outputs": [
    {
     "name": "stdout",
     "output_type": "stream",
     "text": [
      "Training Accuracy : 0.9930778105371106\n",
      "****************************************\n",
      "Testing Accuracy : 0.9933367503844183\n"
     ]
    }
   ],
   "source": [
    "log_pred_train=log.predict(x_train)\n",
    "log_pred_test=log.predict(x_test)\n",
    "print('Training Accuracy :',accuracy_score(y_train,log_pred_train))\n",
    "print(40 * '*')\n",
    "print('Testing Accuracy :',accuracy_score(y_test,log_pred_test))"
   ]
  },
  {
   "cell_type": "code",
   "execution_count": 41,
   "id": "61121c2d-c76e-41c1-9f6a-65f1752a4ebf",
   "metadata": {},
   "outputs": [
    {
     "name": "stdout",
     "output_type": "stream",
     "text": [
      "Training Accuracy : 1.0\n",
      "****************************************\n",
      "Testing Accuracy : 0.9958995386981035\n"
     ]
    }
   ],
   "source": [
    "rf_pred_train=rf.predict(x_train)\n",
    "rf_pred_test=rf.predict(x_test)\n",
    "print('Training Accuracy :',accuracy_score(y_train,rf_pred_train))\n",
    "print(40 * '*')\n",
    "print('Testing Accuracy :',accuracy_score(y_test,rf_pred_test))"
   ]
  },
  {
   "cell_type": "code",
   "execution_count": 42,
   "id": "133a7230-716c-46c6-9deb-2f9eddccc617",
   "metadata": {},
   "outputs": [
    {
     "name": "stdout",
     "output_type": "stream",
     "text": [
      "LOG [[1531   10]\n",
      " [   3  407]]\n",
      "****************************************\n",
      "RF [[1536    5]\n",
      " [   3  407]]\n"
     ]
    }
   ],
   "source": [
    "print(\"LOG\",confusion_matrix(y_test,log_pred))\n",
    "print(40 * '*')\n",
    "print(\"RF\",confusion_matrix(y_test,rf_pred))"
   ]
  },
  {
   "cell_type": "code",
   "execution_count": 43,
   "id": "1923b1eb-4408-490d-8a25-7c523dd13f8b",
   "metadata": {},
   "outputs": [
    {
     "name": "stdout",
     "output_type": "stream",
     "text": [
      "Cross-validation accuracy: 0.9930778265083198\n"
     ]
    }
   ],
   "source": [
    "scores = cross_val_score(log, x_train, y_train, cv=5, scoring='accuracy')\n",
    "print(\"Cross-validation accuracy:\", scores.mean())"
   ]
  },
  {
   "cell_type": "code",
   "execution_count": 44,
   "id": "c491a3cf-0dc8-4a20-b1fc-ca240f3502f2",
   "metadata": {},
   "outputs": [
    {
     "name": "stdout",
     "output_type": "stream",
     "text": [
      "Cross-validation accuracy: 0.9950009034313968\n"
     ]
    }
   ],
   "source": [
    "scores = cross_val_score(rf, x_train, y_train, cv=5, scoring='accuracy')\n",
    "print(\"Cross-validation accuracy:\", scores.mean())"
   ]
  },
  {
   "cell_type": "code",
   "execution_count": 45,
   "id": "cca6dba5-1af6-43ec-b107-7d95e0c02d10",
   "metadata": {},
   "outputs": [
    {
     "name": "stdout",
     "output_type": "stream",
     "text": [
      "AUC Score: 0.9971130561402953\n"
     ]
    }
   ],
   "source": [
    "y_probs = log.predict_proba(x_test)[:,1]\n",
    "fpr, tpr, _ = roc_curve(y_test, y_probs)\n",
    "auc_score = auc(fpr, tpr)\n",
    "print(\"AUC Score:\", auc_score)"
   ]
  },
  {
   "cell_type": "code",
   "execution_count": 46,
   "id": "7c0a1d32-1fc2-4a98-9668-e08b7f56e883",
   "metadata": {},
   "outputs": [
    {
     "name": "stdout",
     "output_type": "stream",
     "text": [
      "AUC Score: 0.9998717969009671\n"
     ]
    }
   ],
   "source": [
    "y_probs = rf.predict_proba(x_test)[:,1]\n",
    "fpr, tpr, _ = roc_curve(y_test, y_probs)\n",
    "auc_score = auc(fpr, tpr)\n",
    "print(\"AUC Score:\", auc_score)"
   ]
  },
  {
   "cell_type": "code",
   "execution_count": null,
   "id": "5286ddbf-bcbf-4e74-ba6d-5fc0c822dcf4",
   "metadata": {},
   "outputs": [],
   "source": []
  },
  {
   "cell_type": "code",
   "execution_count": null,
   "id": "14553f18-516d-4660-980a-cac9f7545353",
   "metadata": {},
   "outputs": [],
   "source": []
  }
 ],
 "metadata": {
  "kernelspec": {
   "display_name": "Python 3 (ipykernel)",
   "language": "python",
   "name": "python3"
  },
  "language_info": {
   "codemirror_mode": {
    "name": "ipython",
    "version": 3
   },
   "file_extension": ".py",
   "mimetype": "text/x-python",
   "name": "python",
   "nbconvert_exporter": "python",
   "pygments_lexer": "ipython3",
   "version": "3.12.7"
  }
 },
 "nbformat": 4,
 "nbformat_minor": 5
}
